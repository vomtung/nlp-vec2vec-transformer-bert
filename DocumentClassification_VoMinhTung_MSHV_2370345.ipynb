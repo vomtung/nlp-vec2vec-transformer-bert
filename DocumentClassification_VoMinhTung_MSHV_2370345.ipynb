{
  "cells": [
    {
      "cell_type": "markdown",
      "metadata": {
        "id": "kWoj7mqALLgv"
      },
      "source": [
        "# Document classificcation lab"
      ]
    },
    {
      "cell_type": "markdown",
      "metadata": {
        "id": "iKOSfaGILTkM"
      },
      "source": [
        "* Họ tên Võ Minh Tùng\n",
        "* MSHV 2370345\n"
      ]
    },
    {
      "cell_type": "markdown",
      "metadata": {
        "id": "V98kKkjxLbdP"
      },
      "source": [
        "## Introduction"
      ]
    },
    {
      "cell_type": "markdown",
      "metadata": {
        "id": "RFKYdKBlkTI9"
      },
      "source": [
        "\n",
        "tutorial"
      ]
    },
    {
      "cell_type": "markdown",
      "metadata": {
        "id": "0jBULBYnkIxI"
      },
      "source": [
        "## Prepare the data"
      ]
    },
    {
      "cell_type": "markdown",
      "metadata": {
        "id": "DS5MaAhSkNqA"
      },
      "source": [
        "read data from excel file."
      ]
    },
    {
      "cell_type": "code",
      "execution_count": 24,
      "metadata": {},
      "outputs": [],
      "source": [
        "import numpy as np\n",
        "import pandas as pd"
      ]
    },
    {
      "cell_type": "code",
      "execution_count": 25,
      "metadata": {
        "id": "3IVK4M1bkwJh"
      },
      "outputs": [],
      "source": [
        "\n",
        "sample_data_train = pd.read_csv('tuoitre.csv')"
      ]
    },
    {
      "cell_type": "markdown",
      "metadata": {
        "id": "Ujtf4b5al_KY"
      },
      "source": [
        "Let's investigate about the dataset"
      ]
    },
    {
      "cell_type": "code",
      "execution_count": 26,
      "metadata": {
        "colab": {
          "base_uri": "https://localhost:8080/"
        },
        "id": "lLpalDH6mFnD",
        "outputId": "3863af76-77d7-401b-e6f5-8722feeb176e"
      },
      "outputs": [
        {
          "name": "stdout",
          "output_type": "stream",
          "text": [
            "Keys: Index(['_id', 'content', 'date', 'summary', 'tags', 'title', 'type'], dtype='object')\n"
          ]
        }
      ],
      "source": [
        "print(f\"Keys: {sample_data_train.keys()}\")"
      ]
    },
    {
      "cell_type": "markdown",
      "metadata": {},
      "source": [
        "1) Khám phá dữ liệu"
      ]
    },
    {
      "cell_type": "code",
      "execution_count": 27,
      "metadata": {},
      "outputs": [
        {
          "data": {
            "text/plain": [
              "(435528, 7)"
            ]
          },
          "execution_count": 27,
          "metadata": {},
          "output_type": "execute_result"
        }
      ],
      "source": [
        "sample_data_train.shape"
      ]
    },
    {
      "cell_type": "markdown",
      "metadata": {},
      "source": [
        "đặt tả dữ liệu"
      ]
    },
    {
      "cell_type": "code",
      "execution_count": 28,
      "metadata": {},
      "outputs": [
        {
          "data": {
            "text/html": [
              "<div>\n",
              "<style scoped>\n",
              "    .dataframe tbody tr th:only-of-type {\n",
              "        vertical-align: middle;\n",
              "    }\n",
              "\n",
              "    .dataframe tbody tr th {\n",
              "        vertical-align: top;\n",
              "    }\n",
              "\n",
              "    .dataframe thead th {\n",
              "        text-align: right;\n",
              "    }\n",
              "</style>\n",
              "<table border=\"1\" class=\"dataframe\">\n",
              "  <thead>\n",
              "    <tr style=\"text-align: right;\">\n",
              "      <th></th>\n",
              "      <th>_id</th>\n",
              "      <th>content</th>\n",
              "      <th>date</th>\n",
              "      <th>summary</th>\n",
              "      <th>tags</th>\n",
              "      <th>title</th>\n",
              "      <th>type</th>\n",
              "    </tr>\n",
              "  </thead>\n",
              "  <tbody>\n",
              "    <tr>\n",
              "      <th>count</th>\n",
              "      <td>435528</td>\n",
              "      <td>431102</td>\n",
              "      <td>435528</td>\n",
              "      <td>435527</td>\n",
              "      <td>435528</td>\n",
              "      <td>435524</td>\n",
              "      <td>435528</td>\n",
              "    </tr>\n",
              "    <tr>\n",
              "      <th>unique</th>\n",
              "      <td>435528</td>\n",
              "      <td>430668</td>\n",
              "      <td>382401</td>\n",
              "      <td>432308</td>\n",
              "      <td>188932</td>\n",
              "      <td>427667</td>\n",
              "      <td>46</td>\n",
              "    </tr>\n",
              "    <tr>\n",
              "      <th>top</th>\n",
              "      <td>http://tuoitre.vn/cam-xuc-lan-toa-tren-interne...</td>\n",
              "      <td>Cuộc thi sẽ mang lại cho bạn cơ hội để làm que...</td>\n",
              "      <td>06/12/2010 04:00 GMT+7</td>\n",
              "      <td>TTO -</td>\n",
              "      <td>[]</td>\n",
              "      <td>Tin vắn</td>\n",
              "      <td>Thoi su/Xa hoi</td>\n",
              "    </tr>\n",
              "    <tr>\n",
              "      <th>freq</th>\n",
              "      <td>1</td>\n",
              "      <td>47</td>\n",
              "      <td>21</td>\n",
              "      <td>740</td>\n",
              "      <td>233850</td>\n",
              "      <td>1268</td>\n",
              "      <td>108605</td>\n",
              "    </tr>\n",
              "  </tbody>\n",
              "</table>\n",
              "</div>"
            ],
            "text/plain": [
              "                                                      _id  \\\n",
              "count                                              435528   \n",
              "unique                                             435528   \n",
              "top     http://tuoitre.vn/cam-xuc-lan-toa-tren-interne...   \n",
              "freq                                                    1   \n",
              "\n",
              "                                                  content  \\\n",
              "count                                              431102   \n",
              "unique                                             430668   \n",
              "top     Cuộc thi sẽ mang lại cho bạn cơ hội để làm que...   \n",
              "freq                                                   47   \n",
              "\n",
              "                          date summary    tags    title            type  \n",
              "count                   435528  435527  435528   435524          435528  \n",
              "unique                  382401  432308  188932   427667              46  \n",
              "top     06/12/2010 04:00 GMT+7   TTO -      []  Tin vắn  Thoi su/Xa hoi  \n",
              "freq                        21     740  233850     1268          108605  "
            ]
          },
          "execution_count": 28,
          "metadata": {},
          "output_type": "execute_result"
        }
      ],
      "source": [
        "sample_data_train.describe()"
      ]
    },
    {
      "cell_type": "code",
      "execution_count": 29,
      "metadata": {
        "colab": {
          "base_uri": "https://localhost:8080/"
        },
        "id": "4RgKuVgULDwC",
        "outputId": "6e7aad9f-6abc-4cf4-ddaf-60c6c4999d5b"
      },
      "outputs": [
        {
          "name": "stdout",
          "output_type": "stream",
          "text": [
            "Description: 0                        Xây dựng luật phải có tuổi thọ cao\n",
            "1                          Giải quyết nạn ô nhiễm sông Nhuệ\n",
            "2                                              Dám là mình!\n",
            "3                                        Nước đã quá chân !\n",
            "4                               Phải cùng lo nỗi lo của dân\n",
            "                                ...                        \n",
            "435523          Kon Tum: HS lớp 6 chưa đọc thông, viết thạo\n",
            "435524    Xem clip diện mạo Beckham thay đổi qua các thờ...\n",
            "435525                               Mơ làm người nổi tiếng\n",
            "435526                                ​Hội chứng smartphone\n",
            "435527     Cảm xúc lan tỏa trên Internet: “HIỆN TƯỢNG ASMR”\n",
            "Name: title, Length: 435528, dtype: object\n",
            "Data size: 435528\n"
          ]
        }
      ],
      "source": [
        "print(f\"Description: {sample_data_train.title}\")\n",
        "print(f\"Data size: {len(sample_data_train.content)}\")\n"
      ]
    },
    {
      "cell_type": "markdown",
      "metadata": {
        "id": "3C-cMcDYnZz9"
      },
      "source": [
        "Let's take a peek into the data"
      ]
    },
    {
      "cell_type": "code",
      "execution_count": 30,
      "metadata": {
        "colab": {
          "base_uri": "https://localhost:8080/"
        },
        "id": "dactWV4akPtm",
        "outputId": "c166771c-08e5-468f-f001-67d0bb0df156"
      },
      "outputs": [
        {
          "data": {
            "text/plain": [
              "0    Tại buổi tiếp xúc, cử tri bốn xã Quế Thọ, Bình...\n",
              "1    Một số ý kiến cử tri cũng đề nghị các ứng viên...\n",
              "2    Nhưng tôi muốn nói về cậu bé học sinh Kopan At...\n",
              "3    Nước đã không còn kiêng dè nơi nào, chẳng phải...\n",
              "4    Vừa qua, nhân hội nghị bàn biện pháp để thực h...\n",
              "5    Bà Huỳnh Thanh Hà (phó giám đốc Xí nghiệp kinh...\n",
              "6    Vụ việc kéo dài đã ba tháng qua khi có qui địn...\n",
              "7    Để chung chi cho công đoạn chạy hay quyết toán...\n",
              "8    Cảnh sát cho biết 1.117 người đã bị câu lưu nh...\n",
              "9    Sự xuất hiện hàng nhãn riêng tại các siêu thị ...\n",
              "Name: content, dtype: object"
            ]
          },
          "execution_count": 30,
          "metadata": {},
          "output_type": "execute_result"
        }
      ],
      "source": [
        "sample_data_train.content[:10]"
      ]
    },
    {
      "cell_type": "markdown",
      "metadata": {},
      "source": [
        "Show vài dòng đầu tiên của dữ liệu"
      ]
    },
    {
      "cell_type": "code",
      "execution_count": 31,
      "metadata": {
        "colab": {
          "base_uri": "https://localhost:8080/"
        },
        "id": "Jo0pzkKmm-f6",
        "outputId": "710c00be-ee2d-4e5d-e206-e04adea67081"
      },
      "outputs": [
        {
          "data": {
            "text/html": [
              "<div>\n",
              "<style scoped>\n",
              "    .dataframe tbody tr th:only-of-type {\n",
              "        vertical-align: middle;\n",
              "    }\n",
              "\n",
              "    .dataframe tbody tr th {\n",
              "        vertical-align: top;\n",
              "    }\n",
              "\n",
              "    .dataframe thead th {\n",
              "        text-align: right;\n",
              "    }\n",
              "</style>\n",
              "<table border=\"1\" class=\"dataframe\">\n",
              "  <thead>\n",
              "    <tr style=\"text-align: right;\">\n",
              "      <th></th>\n",
              "      <th>_id</th>\n",
              "      <th>content</th>\n",
              "      <th>date</th>\n",
              "      <th>summary</th>\n",
              "      <th>tags</th>\n",
              "      <th>title</th>\n",
              "      <th>type</th>\n",
              "    </tr>\n",
              "  </thead>\n",
              "  <tbody>\n",
              "    <tr>\n",
              "      <th>0</th>\n",
              "      <td>http://tuoitre.vn/xay-dung-luat-phai-co-tuoi-t...</td>\n",
              "      <td>Tại buổi tiếp xúc, cử tri bốn xã Quế Thọ, Bình...</td>\n",
              "      <td>12/05/2011 08:03 GMT+7</td>\n",
              "      <td>TT - Ngày 11-5, năm ứng cử viên đại biểu Quốc ...</td>\n",
              "      <td>['Cử tri', 'Quốc hội', 'Đại biểu', 'Bầu cử', '...</td>\n",
              "      <td>Xây dựng luật phải có tuổi thọ cao</td>\n",
              "      <td>Thoi su/Thoi su</td>\n",
              "    </tr>\n",
              "    <tr>\n",
              "      <th>1</th>\n",
              "      <td>http://tuoitre.vn/giai-quyet-nan-o-nhiem-song-...</td>\n",
              "      <td>Một số ý kiến cử tri cũng đề nghị các ứng viên...</td>\n",
              "      <td>13/05/2011 05:45 GMT+7</td>\n",
              "      <td>TT - Ngày 12-5, năm ứng cử viên đại biểu Quốc ...</td>\n",
              "      <td>['Cử tri', 'Quốc hội', 'Ô nhiễm môi trường', '...</td>\n",
              "      <td>Giải quyết nạn ô nhiễm sông Nhuệ</td>\n",
              "      <td>Thoi su/Thoi su</td>\n",
              "    </tr>\n",
              "    <tr>\n",
              "      <th>2</th>\n",
              "      <td>http://tuoitre.vn/dam-la-minh-3564.htm</td>\n",
              "      <td>Nhưng tôi muốn nói về cậu bé học sinh Kopan At...</td>\n",
              "      <td>04/10/2003 09:48 GMT+7</td>\n",
              "      <td>TT - Thủ tướng Thái Lan Thaksin Shinawatra đã ...</td>\n",
              "      <td>[]</td>\n",
              "      <td>Dám là mình!</td>\n",
              "      <td>Thoi su/Nghi</td>\n",
              "    </tr>\n",
              "    <tr>\n",
              "      <th>3</th>\n",
              "      <td>http://tuoitre.vn/nuoc-da-qua-chan-3716.htm</td>\n",
              "      <td>Nước đã không còn kiêng dè nơi nào, chẳng phải...</td>\n",
              "      <td>06/10/2003 09:29 GMT+7</td>\n",
              "      <td>TT - Cuối tuần qua, khi họp với Công ty Thoát ...</td>\n",
              "      <td>[]</td>\n",
              "      <td>Nước đã quá chân !</td>\n",
              "      <td>Thoi su/Nghi</td>\n",
              "    </tr>\n",
              "    <tr>\n",
              "      <th>4</th>\n",
              "      <td>http://tuoitre.vn/phai-cung-lo-noi-lo-cua-dan-...</td>\n",
              "      <td>Vừa qua, nhân hội nghị bàn biện pháp để thực h...</td>\n",
              "      <td>07/10/2003 09:07 GMT+7</td>\n",
              "      <td>TT - Có nơi một sào lúa nông dân thu được 1,5 ...</td>\n",
              "      <td>[]</td>\n",
              "      <td>Phải cùng lo nỗi lo của dân</td>\n",
              "      <td>Thoi su/Nghi</td>\n",
              "    </tr>\n",
              "  </tbody>\n",
              "</table>\n",
              "</div>"
            ],
            "text/plain": [
              "                                                 _id  \\\n",
              "0  http://tuoitre.vn/xay-dung-luat-phai-co-tuoi-t...   \n",
              "1  http://tuoitre.vn/giai-quyet-nan-o-nhiem-song-...   \n",
              "2             http://tuoitre.vn/dam-la-minh-3564.htm   \n",
              "3        http://tuoitre.vn/nuoc-da-qua-chan-3716.htm   \n",
              "4  http://tuoitre.vn/phai-cung-lo-noi-lo-cua-dan-...   \n",
              "\n",
              "                                             content                    date  \\\n",
              "0  Tại buổi tiếp xúc, cử tri bốn xã Quế Thọ, Bình...  12/05/2011 08:03 GMT+7   \n",
              "1  Một số ý kiến cử tri cũng đề nghị các ứng viên...  13/05/2011 05:45 GMT+7   \n",
              "2  Nhưng tôi muốn nói về cậu bé học sinh Kopan At...  04/10/2003 09:48 GMT+7   \n",
              "3  Nước đã không còn kiêng dè nơi nào, chẳng phải...  06/10/2003 09:29 GMT+7   \n",
              "4  Vừa qua, nhân hội nghị bàn biện pháp để thực h...  07/10/2003 09:07 GMT+7   \n",
              "\n",
              "                                             summary  \\\n",
              "0  TT - Ngày 11-5, năm ứng cử viên đại biểu Quốc ...   \n",
              "1  TT - Ngày 12-5, năm ứng cử viên đại biểu Quốc ...   \n",
              "2  TT - Thủ tướng Thái Lan Thaksin Shinawatra đã ...   \n",
              "3  TT - Cuối tuần qua, khi họp với Công ty Thoát ...   \n",
              "4  TT - Có nơi một sào lúa nông dân thu được 1,5 ...   \n",
              "\n",
              "                                                tags  \\\n",
              "0  ['Cử tri', 'Quốc hội', 'Đại biểu', 'Bầu cử', '...   \n",
              "1  ['Cử tri', 'Quốc hội', 'Ô nhiễm môi trường', '...   \n",
              "2                                                 []   \n",
              "3                                                 []   \n",
              "4                                                 []   \n",
              "\n",
              "                                title             type  \n",
              "0  Xây dựng luật phải có tuổi thọ cao  Thoi su/Thoi su  \n",
              "1    Giải quyết nạn ô nhiễm sông Nhuệ  Thoi su/Thoi su  \n",
              "2                        Dám là mình!     Thoi su/Nghi  \n",
              "3                  Nước đã quá chân !     Thoi su/Nghi  \n",
              "4         Phải cùng lo nỗi lo của dân     Thoi su/Nghi  "
            ]
          },
          "execution_count": 31,
          "metadata": {},
          "output_type": "execute_result"
        }
      ],
      "source": [
        "\n",
        "sample_data_train.head(5)"
      ]
    },
    {
      "cell_type": "markdown",
      "metadata": {},
      "source": [
        "Show vài dòng cuối của dữ liệu"
      ]
    },
    {
      "cell_type": "code",
      "execution_count": 32,
      "metadata": {},
      "outputs": [
        {
          "data": {
            "text/html": [
              "<div>\n",
              "<style scoped>\n",
              "    .dataframe tbody tr th:only-of-type {\n",
              "        vertical-align: middle;\n",
              "    }\n",
              "\n",
              "    .dataframe tbody tr th {\n",
              "        vertical-align: top;\n",
              "    }\n",
              "\n",
              "    .dataframe thead th {\n",
              "        text-align: right;\n",
              "    }\n",
              "</style>\n",
              "<table border=\"1\" class=\"dataframe\">\n",
              "  <thead>\n",
              "    <tr style=\"text-align: right;\">\n",
              "      <th></th>\n",
              "      <th>_id</th>\n",
              "      <th>content</th>\n",
              "      <th>date</th>\n",
              "      <th>summary</th>\n",
              "      <th>tags</th>\n",
              "      <th>title</th>\n",
              "      <th>type</th>\n",
              "    </tr>\n",
              "  </thead>\n",
              "  <tbody>\n",
              "    <tr>\n",
              "      <th>435525</th>\n",
              "      <td>http://tuoitre.vn/mo-lam-nguoi-noi-tieng-98464...</td>\n",
              "      <td>Khi tiếng tăm là thương hiệu \\nNgoại hình nổi ...</td>\n",
              "      <td>14/10/2015 14:39 GMT+7</td>\n",
              "      <td>LTS: Tham gia câu chuyện về ước mơ nổi tiếng, ...</td>\n",
              "      <td>['Tuổi trẻ và sự nổi tiếng', 'Mơ nổi tiếng', '...</td>\n",
              "      <td>Mơ làm người nổi tiếng</td>\n",
              "      <td>Giai tri/Hau truong</td>\n",
              "    </tr>\n",
              "    <tr>\n",
              "      <th>435526</th>\n",
              "      <td>http://tuoitre.vn/%E2%80%8Bhoi-chung-smartphon...</td>\n",
              "      <td>Tuy nhiên, điện thoại càng thông minh bao nhiê...</td>\n",
              "      <td>27/05/2015 15:26 GMT+7</td>\n",
              "      <td>Trong cuộc sống hiện đại, smartphone (điện tho...</td>\n",
              "      <td>['Hội chứng smartphone']</td>\n",
              "      <td>​Hội chứng smartphone</td>\n",
              "      <td>Giai tri/Hau truong</td>\n",
              "    </tr>\n",
              "    <tr>\n",
              "      <th>435527</th>\n",
              "      <td>http://tuoitre.vn/cam-xuc-lan-toa-tren-interne...</td>\n",
              "      <td>Đã bao giờ bạn trải nghiệm cảm giác râm ran dễ...</td>\n",
              "      <td>23/02/2015 07:19 GMT+7</td>\n",
              "      <td>Từ vài năm qua, trên trang YouTube bùng nổ các...</td>\n",
              "      <td>['ASMR', 'Gõ nhịp', 'Âm nhạc']</td>\n",
              "      <td>Cảm xúc lan tỏa trên Internet: “HIỆN TƯỢNG ASMR”</td>\n",
              "      <td>Giai tri/Hau truong</td>\n",
              "    </tr>\n",
              "  </tbody>\n",
              "</table>\n",
              "</div>"
            ],
            "text/plain": [
              "                                                      _id  \\\n",
              "435525  http://tuoitre.vn/mo-lam-nguoi-noi-tieng-98464...   \n",
              "435526  http://tuoitre.vn/%E2%80%8Bhoi-chung-smartphon...   \n",
              "435527  http://tuoitre.vn/cam-xuc-lan-toa-tren-interne...   \n",
              "\n",
              "                                                  content  \\\n",
              "435525  Khi tiếng tăm là thương hiệu \\nNgoại hình nổi ...   \n",
              "435526  Tuy nhiên, điện thoại càng thông minh bao nhiê...   \n",
              "435527  Đã bao giờ bạn trải nghiệm cảm giác râm ran dễ...   \n",
              "\n",
              "                          date  \\\n",
              "435525  14/10/2015 14:39 GMT+7   \n",
              "435526  27/05/2015 15:26 GMT+7   \n",
              "435527  23/02/2015 07:19 GMT+7   \n",
              "\n",
              "                                                  summary  \\\n",
              "435525  LTS: Tham gia câu chuyện về ước mơ nổi tiếng, ...   \n",
              "435526  Trong cuộc sống hiện đại, smartphone (điện tho...   \n",
              "435527  Từ vài năm qua, trên trang YouTube bùng nổ các...   \n",
              "\n",
              "                                                     tags  \\\n",
              "435525  ['Tuổi trẻ và sự nổi tiếng', 'Mơ nổi tiếng', '...   \n",
              "435526                           ['Hội chứng smartphone']   \n",
              "435527                     ['ASMR', 'Gõ nhịp', 'Âm nhạc']   \n",
              "\n",
              "                                                   title                 type  \n",
              "435525                            Mơ làm người nổi tiếng  Giai tri/Hau truong  \n",
              "435526                             ​Hội chứng smartphone  Giai tri/Hau truong  \n",
              "435527  Cảm xúc lan tỏa trên Internet: “HIỆN TƯỢNG ASMR”  Giai tri/Hau truong  "
            ]
          },
          "execution_count": 32,
          "metadata": {},
          "output_type": "execute_result"
        }
      ],
      "source": [
        "sample_data_train.tail(3)"
      ]
    },
    {
      "cell_type": "markdown",
      "metadata": {
        "id": "arak3VRFoGVh"
      },
      "source": [
        "## 2) Biển đổi dữ liệu"
      ]
    },
    {
      "cell_type": "markdown",
      "metadata": {
        "id": "7JmtHRn9oPs5"
      },
      "source": [
        "In this section, we try to extract feature vectors from the texts. Then we will feed the features into the learning system .\n",
        "\n",
        "In this lab, you've already known about [**kNN** classifier](http://scikit-learn.org/stable/modules/generated/sklearn.neighbors.KNeighborsClassifier.html). So that we will use it later. We will use **TFIDF** vectors as the extracted feature vectors\n",
        "\n",
        "**Note**: You should distinguish between *kNN classifier* and *kNN regressor*."
      ]
    },
    {
      "cell_type": "code",
      "execution_count": 33,
      "metadata": {},
      "outputs": [
        {
          "name": "stdout",
          "output_type": "stream",
          "text": [
            "Requirement already satisfied: scikit-learn in c:\\users\\oum1hc\\appdata\\local\\programs\\python\\python312\\lib\\site-packages (1.5.2)Note: you may need to restart the kernel to use updated packages.\n",
            "\n",
            "Requirement already satisfied: numpy>=1.19.5 in c:\\users\\oum1hc\\appdata\\local\\programs\\python\\python312\\lib\\site-packages (from scikit-learn) (2.1.1)\n",
            "Requirement already satisfied: scipy>=1.6.0 in c:\\users\\oum1hc\\appdata\\local\\programs\\python\\python312\\lib\\site-packages (from scikit-learn) (1.14.1)\n",
            "Requirement already satisfied: joblib>=1.2.0 in c:\\users\\oum1hc\\appdata\\local\\programs\\python\\python312\\lib\\site-packages (from scikit-learn) (1.4.2)\n",
            "Requirement already satisfied: threadpoolctl>=3.1.0 in c:\\users\\oum1hc\\appdata\\local\\programs\\python\\python312\\lib\\site-packages (from scikit-learn) (3.5.0)\n"
          ]
        }
      ],
      "source": [
        "pip install scikit-learn"
      ]
    },
    {
      "cell_type": "markdown",
      "metadata": {},
      "source": [
        "## 2. remove null content "
      ]
    },
    {
      "cell_type": "code",
      "execution_count": 55,
      "metadata": {},
      "outputs": [],
      "source": [
        "import pandas as pd\n",
        "\n",
        "\n",
        "sample_data_train = sample_data_train.dropna(subset=['content'])\n",
        "sample_data_train = sample_data_train.dropna(subset=['content'])\n",
        "\n",
        "df_all_but_last_column = sample_data_train.iloc[:, :-1]"
      ]
    },
    {
      "cell_type": "markdown",
      "metadata": {},
      "source": [
        "### Data Encoding"
      ]
    },
    {
      "cell_type": "code",
      "execution_count": 58,
      "metadata": {},
      "outputs": [],
      "source": [
        "from sklearn.preprocessing import LabelEncoder\n",
        "y=sample_data_train.iloc[:,-1]\n",
        "\n",
        "# Encode label category\n",
        "# male -> 1\n",
        "# female -> 0\n",
        "\n",
        "label_encoder = LabelEncoder()"
      ]
    },
    {
      "cell_type": "code",
      "execution_count": 61,
      "metadata": {},
      "outputs": [
        {
          "data": {
            "text/plain": [
              "0    Thoi su/Thoi su\n",
              "1    Thoi su/Thoi su\n",
              "2       Thoi su/Nghi\n",
              "3       Thoi su/Nghi\n",
              "4       Thoi su/Nghi\n",
              "Name: type, dtype: object"
            ]
          },
          "execution_count": 61,
          "metadata": {},
          "output_type": "execute_result"
        }
      ],
      "source": [
        "y.head()"
      ]
    },
    {
      "cell_type": "markdown",
      "metadata": {},
      "source": [
        "#encode label"
      ]
    },
    {
      "cell_type": "code",
      "execution_count": 62,
      "metadata": {},
      "outputs": [],
      "source": [
        "label_encoder.fit(y)\n",
        "y = label_encoder.transform(y)"
      ]
    },
    {
      "cell_type": "code",
      "execution_count": 63,
      "metadata": {},
      "outputs": [
        {
          "data": {
            "text/plain": [
              "array([40, 40, 38, ...,  7,  7,  7])"
            ]
          },
          "execution_count": 63,
          "metadata": {},
          "output_type": "execute_result"
        }
      ],
      "source": [
        "y"
      ]
    },
    {
      "cell_type": "code",
      "execution_count": 64,
      "metadata": {},
      "outputs": [
        {
          "data": {
            "text/plain": [
              "array(['Thoi su/Thoi su', 'Thoi su/Thoi su', 'Thoi su/Nghi', ...,\n",
              "       'Giai tri/Hau truong', 'Giai tri/Hau truong',\n",
              "       'Giai tri/Hau truong'], dtype=object)"
            ]
          },
          "execution_count": 64,
          "metadata": {},
          "output_type": "execute_result"
        }
      ],
      "source": [
        "label_encoder.inverse_transform(y)"
      ]
    },
    {
      "cell_type": "markdown",
      "metadata": {},
      "source": [
        "## Extract feature vectors"
      ]
    },
    {
      "cell_type": "code",
      "execution_count": 65,
      "metadata": {
        "colab": {
          "base_uri": "https://localhost:8080/"
        },
        "id": "PDTH3dHunqK2",
        "outputId": "7dad8043-c37b-473b-bb76-aa4590cdf3d5"
      },
      "outputs": [
        {
          "data": {
            "text/plain": [
              "(431102, 257856)"
            ]
          },
          "execution_count": 65,
          "metadata": {},
          "output_type": "execute_result"
        }
      ],
      "source": [
        "from sklearn.feature_extraction.text import TfidfTransformer\n",
        "from sklearn.feature_extraction.text import CountVectorizer\n",
        "count_vect = CountVectorizer()\n",
        "\n",
        "\n",
        "\n",
        "X_train_count = count_vect.fit_transform(df_all_but_last_column.content)\n",
        "tf_transformer = TfidfTransformer(use_idf=False).fit(X_train_count)\n",
        "X_train_tf = tf_transformer.transform(X_train_count)\n",
        "X_train_tf.shape"
      ]
    },
    {
      "cell_type": "markdown",
      "metadata": {
        "id": "y1mVUpSiNfbT"
      },
      "source": [
        "## Training model"
      ]
    },
    {
      "cell_type": "markdown",
      "metadata": {
        "id": "0TyidAfiNjpy"
      },
      "source": [
        "We use [**kNN** classifier](http://scikit-learn.org/stable/modules/generated/sklearn.neighbors.KNeighborsClassifier.html) for training model"
      ]
    },
    {
      "cell_type": "code",
      "execution_count": 66,
      "metadata": {
        "colab": {
          "base_uri": "https://localhost:8080/",
          "height": 68
        },
        "id": "I5fQpQe2NaVn",
        "outputId": "619d8e9d-3adb-4692-f83c-0d81d59c409f"
      },
      "outputs": [
        {
          "data": {
            "text/html": [
              "<style>#sk-container-id-1 {\n",
              "  /* Definition of color scheme common for light and dark mode */\n",
              "  --sklearn-color-text: black;\n",
              "  --sklearn-color-line: gray;\n",
              "  /* Definition of color scheme for unfitted estimators */\n",
              "  --sklearn-color-unfitted-level-0: #fff5e6;\n",
              "  --sklearn-color-unfitted-level-1: #f6e4d2;\n",
              "  --sklearn-color-unfitted-level-2: #ffe0b3;\n",
              "  --sklearn-color-unfitted-level-3: chocolate;\n",
              "  /* Definition of color scheme for fitted estimators */\n",
              "  --sklearn-color-fitted-level-0: #f0f8ff;\n",
              "  --sklearn-color-fitted-level-1: #d4ebff;\n",
              "  --sklearn-color-fitted-level-2: #b3dbfd;\n",
              "  --sklearn-color-fitted-level-3: cornflowerblue;\n",
              "\n",
              "  /* Specific color for light theme */\n",
              "  --sklearn-color-text-on-default-background: var(--sg-text-color, var(--theme-code-foreground, var(--jp-content-font-color1, black)));\n",
              "  --sklearn-color-background: var(--sg-background-color, var(--theme-background, var(--jp-layout-color0, white)));\n",
              "  --sklearn-color-border-box: var(--sg-text-color, var(--theme-code-foreground, var(--jp-content-font-color1, black)));\n",
              "  --sklearn-color-icon: #696969;\n",
              "\n",
              "  @media (prefers-color-scheme: dark) {\n",
              "    /* Redefinition of color scheme for dark theme */\n",
              "    --sklearn-color-text-on-default-background: var(--sg-text-color, var(--theme-code-foreground, var(--jp-content-font-color1, white)));\n",
              "    --sklearn-color-background: var(--sg-background-color, var(--theme-background, var(--jp-layout-color0, #111)));\n",
              "    --sklearn-color-border-box: var(--sg-text-color, var(--theme-code-foreground, var(--jp-content-font-color1, white)));\n",
              "    --sklearn-color-icon: #878787;\n",
              "  }\n",
              "}\n",
              "\n",
              "#sk-container-id-1 {\n",
              "  color: var(--sklearn-color-text);\n",
              "}\n",
              "\n",
              "#sk-container-id-1 pre {\n",
              "  padding: 0;\n",
              "}\n",
              "\n",
              "#sk-container-id-1 input.sk-hidden--visually {\n",
              "  border: 0;\n",
              "  clip: rect(1px 1px 1px 1px);\n",
              "  clip: rect(1px, 1px, 1px, 1px);\n",
              "  height: 1px;\n",
              "  margin: -1px;\n",
              "  overflow: hidden;\n",
              "  padding: 0;\n",
              "  position: absolute;\n",
              "  width: 1px;\n",
              "}\n",
              "\n",
              "#sk-container-id-1 div.sk-dashed-wrapped {\n",
              "  border: 1px dashed var(--sklearn-color-line);\n",
              "  margin: 0 0.4em 0.5em 0.4em;\n",
              "  box-sizing: border-box;\n",
              "  padding-bottom: 0.4em;\n",
              "  background-color: var(--sklearn-color-background);\n",
              "}\n",
              "\n",
              "#sk-container-id-1 div.sk-container {\n",
              "  /* jupyter's `normalize.less` sets `[hidden] { display: none; }`\n",
              "     but bootstrap.min.css set `[hidden] { display: none !important; }`\n",
              "     so we also need the `!important` here to be able to override the\n",
              "     default hidden behavior on the sphinx rendered scikit-learn.org.\n",
              "     See: https://github.com/scikit-learn/scikit-learn/issues/21755 */\n",
              "  display: inline-block !important;\n",
              "  position: relative;\n",
              "}\n",
              "\n",
              "#sk-container-id-1 div.sk-text-repr-fallback {\n",
              "  display: none;\n",
              "}\n",
              "\n",
              "div.sk-parallel-item,\n",
              "div.sk-serial,\n",
              "div.sk-item {\n",
              "  /* draw centered vertical line to link estimators */\n",
              "  background-image: linear-gradient(var(--sklearn-color-text-on-default-background), var(--sklearn-color-text-on-default-background));\n",
              "  background-size: 2px 100%;\n",
              "  background-repeat: no-repeat;\n",
              "  background-position: center center;\n",
              "}\n",
              "\n",
              "/* Parallel-specific style estimator block */\n",
              "\n",
              "#sk-container-id-1 div.sk-parallel-item::after {\n",
              "  content: \"\";\n",
              "  width: 100%;\n",
              "  border-bottom: 2px solid var(--sklearn-color-text-on-default-background);\n",
              "  flex-grow: 1;\n",
              "}\n",
              "\n",
              "#sk-container-id-1 div.sk-parallel {\n",
              "  display: flex;\n",
              "  align-items: stretch;\n",
              "  justify-content: center;\n",
              "  background-color: var(--sklearn-color-background);\n",
              "  position: relative;\n",
              "}\n",
              "\n",
              "#sk-container-id-1 div.sk-parallel-item {\n",
              "  display: flex;\n",
              "  flex-direction: column;\n",
              "}\n",
              "\n",
              "#sk-container-id-1 div.sk-parallel-item:first-child::after {\n",
              "  align-self: flex-end;\n",
              "  width: 50%;\n",
              "}\n",
              "\n",
              "#sk-container-id-1 div.sk-parallel-item:last-child::after {\n",
              "  align-self: flex-start;\n",
              "  width: 50%;\n",
              "}\n",
              "\n",
              "#sk-container-id-1 div.sk-parallel-item:only-child::after {\n",
              "  width: 0;\n",
              "}\n",
              "\n",
              "/* Serial-specific style estimator block */\n",
              "\n",
              "#sk-container-id-1 div.sk-serial {\n",
              "  display: flex;\n",
              "  flex-direction: column;\n",
              "  align-items: center;\n",
              "  background-color: var(--sklearn-color-background);\n",
              "  padding-right: 1em;\n",
              "  padding-left: 1em;\n",
              "}\n",
              "\n",
              "\n",
              "/* Toggleable style: style used for estimator/Pipeline/ColumnTransformer box that is\n",
              "clickable and can be expanded/collapsed.\n",
              "- Pipeline and ColumnTransformer use this feature and define the default style\n",
              "- Estimators will overwrite some part of the style using the `sk-estimator` class\n",
              "*/\n",
              "\n",
              "/* Pipeline and ColumnTransformer style (default) */\n",
              "\n",
              "#sk-container-id-1 div.sk-toggleable {\n",
              "  /* Default theme specific background. It is overwritten whether we have a\n",
              "  specific estimator or a Pipeline/ColumnTransformer */\n",
              "  background-color: var(--sklearn-color-background);\n",
              "}\n",
              "\n",
              "/* Toggleable label */\n",
              "#sk-container-id-1 label.sk-toggleable__label {\n",
              "  cursor: pointer;\n",
              "  display: block;\n",
              "  width: 100%;\n",
              "  margin-bottom: 0;\n",
              "  padding: 0.5em;\n",
              "  box-sizing: border-box;\n",
              "  text-align: center;\n",
              "}\n",
              "\n",
              "#sk-container-id-1 label.sk-toggleable__label-arrow:before {\n",
              "  /* Arrow on the left of the label */\n",
              "  content: \"▸\";\n",
              "  float: left;\n",
              "  margin-right: 0.25em;\n",
              "  color: var(--sklearn-color-icon);\n",
              "}\n",
              "\n",
              "#sk-container-id-1 label.sk-toggleable__label-arrow:hover:before {\n",
              "  color: var(--sklearn-color-text);\n",
              "}\n",
              "\n",
              "/* Toggleable content - dropdown */\n",
              "\n",
              "#sk-container-id-1 div.sk-toggleable__content {\n",
              "  max-height: 0;\n",
              "  max-width: 0;\n",
              "  overflow: hidden;\n",
              "  text-align: left;\n",
              "  /* unfitted */\n",
              "  background-color: var(--sklearn-color-unfitted-level-0);\n",
              "}\n",
              "\n",
              "#sk-container-id-1 div.sk-toggleable__content.fitted {\n",
              "  /* fitted */\n",
              "  background-color: var(--sklearn-color-fitted-level-0);\n",
              "}\n",
              "\n",
              "#sk-container-id-1 div.sk-toggleable__content pre {\n",
              "  margin: 0.2em;\n",
              "  border-radius: 0.25em;\n",
              "  color: var(--sklearn-color-text);\n",
              "  /* unfitted */\n",
              "  background-color: var(--sklearn-color-unfitted-level-0);\n",
              "}\n",
              "\n",
              "#sk-container-id-1 div.sk-toggleable__content.fitted pre {\n",
              "  /* unfitted */\n",
              "  background-color: var(--sklearn-color-fitted-level-0);\n",
              "}\n",
              "\n",
              "#sk-container-id-1 input.sk-toggleable__control:checked~div.sk-toggleable__content {\n",
              "  /* Expand drop-down */\n",
              "  max-height: 200px;\n",
              "  max-width: 100%;\n",
              "  overflow: auto;\n",
              "}\n",
              "\n",
              "#sk-container-id-1 input.sk-toggleable__control:checked~label.sk-toggleable__label-arrow:before {\n",
              "  content: \"▾\";\n",
              "}\n",
              "\n",
              "/* Pipeline/ColumnTransformer-specific style */\n",
              "\n",
              "#sk-container-id-1 div.sk-label input.sk-toggleable__control:checked~label.sk-toggleable__label {\n",
              "  color: var(--sklearn-color-text);\n",
              "  background-color: var(--sklearn-color-unfitted-level-2);\n",
              "}\n",
              "\n",
              "#sk-container-id-1 div.sk-label.fitted input.sk-toggleable__control:checked~label.sk-toggleable__label {\n",
              "  background-color: var(--sklearn-color-fitted-level-2);\n",
              "}\n",
              "\n",
              "/* Estimator-specific style */\n",
              "\n",
              "/* Colorize estimator box */\n",
              "#sk-container-id-1 div.sk-estimator input.sk-toggleable__control:checked~label.sk-toggleable__label {\n",
              "  /* unfitted */\n",
              "  background-color: var(--sklearn-color-unfitted-level-2);\n",
              "}\n",
              "\n",
              "#sk-container-id-1 div.sk-estimator.fitted input.sk-toggleable__control:checked~label.sk-toggleable__label {\n",
              "  /* fitted */\n",
              "  background-color: var(--sklearn-color-fitted-level-2);\n",
              "}\n",
              "\n",
              "#sk-container-id-1 div.sk-label label.sk-toggleable__label,\n",
              "#sk-container-id-1 div.sk-label label {\n",
              "  /* The background is the default theme color */\n",
              "  color: var(--sklearn-color-text-on-default-background);\n",
              "}\n",
              "\n",
              "/* On hover, darken the color of the background */\n",
              "#sk-container-id-1 div.sk-label:hover label.sk-toggleable__label {\n",
              "  color: var(--sklearn-color-text);\n",
              "  background-color: var(--sklearn-color-unfitted-level-2);\n",
              "}\n",
              "\n",
              "/* Label box, darken color on hover, fitted */\n",
              "#sk-container-id-1 div.sk-label.fitted:hover label.sk-toggleable__label.fitted {\n",
              "  color: var(--sklearn-color-text);\n",
              "  background-color: var(--sklearn-color-fitted-level-2);\n",
              "}\n",
              "\n",
              "/* Estimator label */\n",
              "\n",
              "#sk-container-id-1 div.sk-label label {\n",
              "  font-family: monospace;\n",
              "  font-weight: bold;\n",
              "  display: inline-block;\n",
              "  line-height: 1.2em;\n",
              "}\n",
              "\n",
              "#sk-container-id-1 div.sk-label-container {\n",
              "  text-align: center;\n",
              "}\n",
              "\n",
              "/* Estimator-specific */\n",
              "#sk-container-id-1 div.sk-estimator {\n",
              "  font-family: monospace;\n",
              "  border: 1px dotted var(--sklearn-color-border-box);\n",
              "  border-radius: 0.25em;\n",
              "  box-sizing: border-box;\n",
              "  margin-bottom: 0.5em;\n",
              "  /* unfitted */\n",
              "  background-color: var(--sklearn-color-unfitted-level-0);\n",
              "}\n",
              "\n",
              "#sk-container-id-1 div.sk-estimator.fitted {\n",
              "  /* fitted */\n",
              "  background-color: var(--sklearn-color-fitted-level-0);\n",
              "}\n",
              "\n",
              "/* on hover */\n",
              "#sk-container-id-1 div.sk-estimator:hover {\n",
              "  /* unfitted */\n",
              "  background-color: var(--sklearn-color-unfitted-level-2);\n",
              "}\n",
              "\n",
              "#sk-container-id-1 div.sk-estimator.fitted:hover {\n",
              "  /* fitted */\n",
              "  background-color: var(--sklearn-color-fitted-level-2);\n",
              "}\n",
              "\n",
              "/* Specification for estimator info (e.g. \"i\" and \"?\") */\n",
              "\n",
              "/* Common style for \"i\" and \"?\" */\n",
              "\n",
              ".sk-estimator-doc-link,\n",
              "a:link.sk-estimator-doc-link,\n",
              "a:visited.sk-estimator-doc-link {\n",
              "  float: right;\n",
              "  font-size: smaller;\n",
              "  line-height: 1em;\n",
              "  font-family: monospace;\n",
              "  background-color: var(--sklearn-color-background);\n",
              "  border-radius: 1em;\n",
              "  height: 1em;\n",
              "  width: 1em;\n",
              "  text-decoration: none !important;\n",
              "  margin-left: 1ex;\n",
              "  /* unfitted */\n",
              "  border: var(--sklearn-color-unfitted-level-1) 1pt solid;\n",
              "  color: var(--sklearn-color-unfitted-level-1);\n",
              "}\n",
              "\n",
              ".sk-estimator-doc-link.fitted,\n",
              "a:link.sk-estimator-doc-link.fitted,\n",
              "a:visited.sk-estimator-doc-link.fitted {\n",
              "  /* fitted */\n",
              "  border: var(--sklearn-color-fitted-level-1) 1pt solid;\n",
              "  color: var(--sklearn-color-fitted-level-1);\n",
              "}\n",
              "\n",
              "/* On hover */\n",
              "div.sk-estimator:hover .sk-estimator-doc-link:hover,\n",
              ".sk-estimator-doc-link:hover,\n",
              "div.sk-label-container:hover .sk-estimator-doc-link:hover,\n",
              ".sk-estimator-doc-link:hover {\n",
              "  /* unfitted */\n",
              "  background-color: var(--sklearn-color-unfitted-level-3);\n",
              "  color: var(--sklearn-color-background);\n",
              "  text-decoration: none;\n",
              "}\n",
              "\n",
              "div.sk-estimator.fitted:hover .sk-estimator-doc-link.fitted:hover,\n",
              ".sk-estimator-doc-link.fitted:hover,\n",
              "div.sk-label-container:hover .sk-estimator-doc-link.fitted:hover,\n",
              ".sk-estimator-doc-link.fitted:hover {\n",
              "  /* fitted */\n",
              "  background-color: var(--sklearn-color-fitted-level-3);\n",
              "  color: var(--sklearn-color-background);\n",
              "  text-decoration: none;\n",
              "}\n",
              "\n",
              "/* Span, style for the box shown on hovering the info icon */\n",
              ".sk-estimator-doc-link span {\n",
              "  display: none;\n",
              "  z-index: 9999;\n",
              "  position: relative;\n",
              "  font-weight: normal;\n",
              "  right: .2ex;\n",
              "  padding: .5ex;\n",
              "  margin: .5ex;\n",
              "  width: min-content;\n",
              "  min-width: 20ex;\n",
              "  max-width: 50ex;\n",
              "  color: var(--sklearn-color-text);\n",
              "  box-shadow: 2pt 2pt 4pt #999;\n",
              "  /* unfitted */\n",
              "  background: var(--sklearn-color-unfitted-level-0);\n",
              "  border: .5pt solid var(--sklearn-color-unfitted-level-3);\n",
              "}\n",
              "\n",
              ".sk-estimator-doc-link.fitted span {\n",
              "  /* fitted */\n",
              "  background: var(--sklearn-color-fitted-level-0);\n",
              "  border: var(--sklearn-color-fitted-level-3);\n",
              "}\n",
              "\n",
              ".sk-estimator-doc-link:hover span {\n",
              "  display: block;\n",
              "}\n",
              "\n",
              "/* \"?\"-specific style due to the `<a>` HTML tag */\n",
              "\n",
              "#sk-container-id-1 a.estimator_doc_link {\n",
              "  float: right;\n",
              "  font-size: 1rem;\n",
              "  line-height: 1em;\n",
              "  font-family: monospace;\n",
              "  background-color: var(--sklearn-color-background);\n",
              "  border-radius: 1rem;\n",
              "  height: 1rem;\n",
              "  width: 1rem;\n",
              "  text-decoration: none;\n",
              "  /* unfitted */\n",
              "  color: var(--sklearn-color-unfitted-level-1);\n",
              "  border: var(--sklearn-color-unfitted-level-1) 1pt solid;\n",
              "}\n",
              "\n",
              "#sk-container-id-1 a.estimator_doc_link.fitted {\n",
              "  /* fitted */\n",
              "  border: var(--sklearn-color-fitted-level-1) 1pt solid;\n",
              "  color: var(--sklearn-color-fitted-level-1);\n",
              "}\n",
              "\n",
              "/* On hover */\n",
              "#sk-container-id-1 a.estimator_doc_link:hover {\n",
              "  /* unfitted */\n",
              "  background-color: var(--sklearn-color-unfitted-level-3);\n",
              "  color: var(--sklearn-color-background);\n",
              "  text-decoration: none;\n",
              "}\n",
              "\n",
              "#sk-container-id-1 a.estimator_doc_link.fitted:hover {\n",
              "  /* fitted */\n",
              "  background-color: var(--sklearn-color-fitted-level-3);\n",
              "}\n",
              "</style><div id=\"sk-container-id-1\" class=\"sk-top-container\"><div class=\"sk-text-repr-fallback\"><pre>KNeighborsClassifier()</pre><b>In a Jupyter environment, please rerun this cell to show the HTML representation or trust the notebook. <br />On GitHub, the HTML representation is unable to render, please try loading this page with nbviewer.org.</b></div><div class=\"sk-container\" hidden><div class=\"sk-item\"><div class=\"sk-estimator fitted sk-toggleable\"><input class=\"sk-toggleable__control sk-hidden--visually\" id=\"sk-estimator-id-1\" type=\"checkbox\" checked><label for=\"sk-estimator-id-1\" class=\"sk-toggleable__label fitted sk-toggleable__label-arrow fitted\">&nbsp;&nbsp;KNeighborsClassifier<a class=\"sk-estimator-doc-link fitted\" rel=\"noreferrer\" target=\"_blank\" href=\"https://scikit-learn.org/1.5/modules/generated/sklearn.neighbors.KNeighborsClassifier.html\">?<span>Documentation for KNeighborsClassifier</span></a><span class=\"sk-estimator-doc-link fitted\">i<span>Fitted</span></span></label><div class=\"sk-toggleable__content fitted\"><pre>KNeighborsClassifier()</pre></div> </div></div></div></div>"
            ],
            "text/plain": [
              "KNeighborsClassifier()"
            ]
          },
          "execution_count": 66,
          "metadata": {},
          "output_type": "execute_result"
        }
      ],
      "source": [
        "from sklearn import neighbors\n",
        "clf = neighbors.KNeighborsClassifier()\n",
        "clf.fit(X_train_tf, y)"
      ]
    },
    {
      "cell_type": "markdown",
      "metadata": {
        "id": "jEhqy8ifN5LL"
      },
      "source": [
        "Done.\n",
        "\n",
        "Now, let's try to predict 2 sentences\n",
        "\n",
        "```\n",
        "hello is this me you looking for\n",
        "```\n",
        "\n",
        "```\n",
        "Theresa May is on the verge of publicly blaming Russia for the attempted murder of Sergei and Yulia Skripal and ordering expulsions and sanctions against President Putin’s regime. An announcement could come as early as today after a meeting of the government’s National Security Council\n",
        "```"
      ]
    },
    {
      "cell_type": "code",
      "execution_count": 67,
      "metadata": {
        "colab": {
          "base_uri": "https://localhost:8080/",
          "height": 1000
        },
        "id": "FKMPRH0qN3Dn",
        "outputId": "82eddb03-5d4e-4208-df16-ac0cc7569339"
      },
      "outputs": [
        {
          "ename": "ValueError",
          "evalue": "Expected 2D array, got 1D array instead:\narray=['hello is this me you looking for'\n 'Theresa May is on the verge of publicly blaming Russia for the attempted murder of Sergei and Yulia Skripal and ordering expulsions and sanctions against President Putin’s regime. An announcement could come as early as today after a meeting of the government’s National Security Council'].\nReshape your data either using array.reshape(-1, 1) if your data has a single feature or array.reshape(1, -1) if it contains a single sample.",
          "output_type": "error",
          "traceback": [
            "\u001b[1;31m---------------------------------------------------------------------------\u001b[0m",
            "\u001b[1;31mValueError\u001b[0m                                Traceback (most recent call last)",
            "Cell \u001b[1;32mIn[67], line 5\u001b[0m\n\u001b[0;32m      1\u001b[0m test_data \u001b[38;5;241m=\u001b[39m [\n\u001b[0;32m      2\u001b[0m     \u001b[38;5;124m\"\u001b[39m\u001b[38;5;124mhello is this me you looking for\u001b[39m\u001b[38;5;124m\"\u001b[39m,\n\u001b[0;32m      3\u001b[0m     \u001b[38;5;124m\"\u001b[39m\u001b[38;5;124mTheresa May is on the verge of publicly blaming Russia for the attempted murder of Sergei and Yulia Skripal and ordering expulsions and sanctions against President Putin’s regime. An announcement could come as early as today after a meeting of the government’s National Security Council\u001b[39m\u001b[38;5;124m\"\u001b[39m\n\u001b[0;32m      4\u001b[0m ]\n\u001b[1;32m----> 5\u001b[0m \u001b[43mclf\u001b[49m\u001b[38;5;241;43m.\u001b[39;49m\u001b[43mpredict\u001b[49m\u001b[43m(\u001b[49m\u001b[43mtest_data\u001b[49m\u001b[43m)\u001b[49m\n",
            "File \u001b[1;32mc:\\Users\\oum1hc\\AppData\\Local\\Programs\\Python\\Python312\\Lib\\site-packages\\sklearn\\neighbors\\_classification.py:271\u001b[0m, in \u001b[0;36mKNeighborsClassifier.predict\u001b[1;34m(self, X)\u001b[0m\n\u001b[0;32m    268\u001b[0m         \u001b[38;5;28;01mreturn\u001b[39;00m \u001b[38;5;28mself\u001b[39m\u001b[38;5;241m.\u001b[39mclasses_[np\u001b[38;5;241m.\u001b[39margmax(probabilities, axis\u001b[38;5;241m=\u001b[39m\u001b[38;5;241m1\u001b[39m)]\n\u001b[0;32m    269\u001b[0m     \u001b[38;5;66;03m# In that case, we do not need the distances to perform\u001b[39;00m\n\u001b[0;32m    270\u001b[0m     \u001b[38;5;66;03m# the weighting so we do not compute them.\u001b[39;00m\n\u001b[1;32m--> 271\u001b[0m     neigh_ind \u001b[38;5;241m=\u001b[39m \u001b[38;5;28;43mself\u001b[39;49m\u001b[38;5;241;43m.\u001b[39;49m\u001b[43mkneighbors\u001b[49m\u001b[43m(\u001b[49m\u001b[43mX\u001b[49m\u001b[43m,\u001b[49m\u001b[43m \u001b[49m\u001b[43mreturn_distance\u001b[49m\u001b[38;5;241;43m=\u001b[39;49m\u001b[38;5;28;43;01mFalse\u001b[39;49;00m\u001b[43m)\u001b[49m\n\u001b[0;32m    272\u001b[0m     neigh_dist \u001b[38;5;241m=\u001b[39m \u001b[38;5;28;01mNone\u001b[39;00m\n\u001b[0;32m    273\u001b[0m \u001b[38;5;28;01melse\u001b[39;00m:\n",
            "File \u001b[1;32mc:\\Users\\oum1hc\\AppData\\Local\\Programs\\Python\\Python312\\Lib\\site-packages\\sklearn\\neighbors\\_base.py:825\u001b[0m, in \u001b[0;36mKNeighborsMixin.kneighbors\u001b[1;34m(self, X, n_neighbors, return_distance)\u001b[0m\n\u001b[0;32m    823\u001b[0m         X \u001b[38;5;241m=\u001b[39m _check_precomputed(X)\n\u001b[0;32m    824\u001b[0m     \u001b[38;5;28;01melse\u001b[39;00m:\n\u001b[1;32m--> 825\u001b[0m         X \u001b[38;5;241m=\u001b[39m \u001b[38;5;28;43mself\u001b[39;49m\u001b[38;5;241;43m.\u001b[39;49m\u001b[43m_validate_data\u001b[49m\u001b[43m(\u001b[49m\u001b[43mX\u001b[49m\u001b[43m,\u001b[49m\u001b[43m \u001b[49m\u001b[43maccept_sparse\u001b[49m\u001b[38;5;241;43m=\u001b[39;49m\u001b[38;5;124;43m\"\u001b[39;49m\u001b[38;5;124;43mcsr\u001b[39;49m\u001b[38;5;124;43m\"\u001b[39;49m\u001b[43m,\u001b[49m\u001b[43m \u001b[49m\u001b[43mreset\u001b[49m\u001b[38;5;241;43m=\u001b[39;49m\u001b[38;5;28;43;01mFalse\u001b[39;49;00m\u001b[43m,\u001b[49m\u001b[43m \u001b[49m\u001b[43morder\u001b[49m\u001b[38;5;241;43m=\u001b[39;49m\u001b[38;5;124;43m\"\u001b[39;49m\u001b[38;5;124;43mC\u001b[39;49m\u001b[38;5;124;43m\"\u001b[39;49m\u001b[43m)\u001b[49m\n\u001b[0;32m    827\u001b[0m n_samples_fit \u001b[38;5;241m=\u001b[39m \u001b[38;5;28mself\u001b[39m\u001b[38;5;241m.\u001b[39mn_samples_fit_\n\u001b[0;32m    828\u001b[0m \u001b[38;5;28;01mif\u001b[39;00m n_neighbors \u001b[38;5;241m>\u001b[39m n_samples_fit:\n",
            "File \u001b[1;32mc:\\Users\\oum1hc\\AppData\\Local\\Programs\\Python\\Python312\\Lib\\site-packages\\sklearn\\base.py:633\u001b[0m, in \u001b[0;36mBaseEstimator._validate_data\u001b[1;34m(self, X, y, reset, validate_separately, cast_to_ndarray, **check_params)\u001b[0m\n\u001b[0;32m    631\u001b[0m         out \u001b[38;5;241m=\u001b[39m X, y\n\u001b[0;32m    632\u001b[0m \u001b[38;5;28;01melif\u001b[39;00m \u001b[38;5;129;01mnot\u001b[39;00m no_val_X \u001b[38;5;129;01mand\u001b[39;00m no_val_y:\n\u001b[1;32m--> 633\u001b[0m     out \u001b[38;5;241m=\u001b[39m \u001b[43mcheck_array\u001b[49m\u001b[43m(\u001b[49m\u001b[43mX\u001b[49m\u001b[43m,\u001b[49m\u001b[43m \u001b[49m\u001b[43minput_name\u001b[49m\u001b[38;5;241;43m=\u001b[39;49m\u001b[38;5;124;43m\"\u001b[39;49m\u001b[38;5;124;43mX\u001b[39;49m\u001b[38;5;124;43m\"\u001b[39;49m\u001b[43m,\u001b[49m\u001b[43m \u001b[49m\u001b[38;5;241;43m*\u001b[39;49m\u001b[38;5;241;43m*\u001b[39;49m\u001b[43mcheck_params\u001b[49m\u001b[43m)\u001b[49m\n\u001b[0;32m    634\u001b[0m \u001b[38;5;28;01melif\u001b[39;00m no_val_X \u001b[38;5;129;01mand\u001b[39;00m \u001b[38;5;129;01mnot\u001b[39;00m no_val_y:\n\u001b[0;32m    635\u001b[0m     out \u001b[38;5;241m=\u001b[39m _check_y(y, \u001b[38;5;241m*\u001b[39m\u001b[38;5;241m*\u001b[39mcheck_params)\n",
            "File \u001b[1;32mc:\\Users\\oum1hc\\AppData\\Local\\Programs\\Python\\Python312\\Lib\\site-packages\\sklearn\\utils\\validation.py:1050\u001b[0m, in \u001b[0;36mcheck_array\u001b[1;34m(array, accept_sparse, accept_large_sparse, dtype, order, copy, force_writeable, force_all_finite, ensure_2d, allow_nd, ensure_min_samples, ensure_min_features, estimator, input_name)\u001b[0m\n\u001b[0;32m   1043\u001b[0m         \u001b[38;5;28;01melse\u001b[39;00m:\n\u001b[0;32m   1044\u001b[0m             msg \u001b[38;5;241m=\u001b[39m (\n\u001b[0;32m   1045\u001b[0m                 \u001b[38;5;124mf\u001b[39m\u001b[38;5;124m\"\u001b[39m\u001b[38;5;124mExpected 2D array, got 1D array instead:\u001b[39m\u001b[38;5;130;01m\\n\u001b[39;00m\u001b[38;5;124marray=\u001b[39m\u001b[38;5;132;01m{\u001b[39;00marray\u001b[38;5;132;01m}\u001b[39;00m\u001b[38;5;124m.\u001b[39m\u001b[38;5;130;01m\\n\u001b[39;00m\u001b[38;5;124m\"\u001b[39m\n\u001b[0;32m   1046\u001b[0m                 \u001b[38;5;124m\"\u001b[39m\u001b[38;5;124mReshape your data either using array.reshape(-1, 1) if \u001b[39m\u001b[38;5;124m\"\u001b[39m\n\u001b[0;32m   1047\u001b[0m                 \u001b[38;5;124m\"\u001b[39m\u001b[38;5;124myour data has a single feature or array.reshape(1, -1) \u001b[39m\u001b[38;5;124m\"\u001b[39m\n\u001b[0;32m   1048\u001b[0m                 \u001b[38;5;124m\"\u001b[39m\u001b[38;5;124mif it contains a single sample.\u001b[39m\u001b[38;5;124m\"\u001b[39m\n\u001b[0;32m   1049\u001b[0m             )\n\u001b[1;32m-> 1050\u001b[0m         \u001b[38;5;28;01mraise\u001b[39;00m \u001b[38;5;167;01mValueError\u001b[39;00m(msg)\n\u001b[0;32m   1052\u001b[0m \u001b[38;5;28;01mif\u001b[39;00m dtype_numeric \u001b[38;5;129;01mand\u001b[39;00m \u001b[38;5;28mhasattr\u001b[39m(array\u001b[38;5;241m.\u001b[39mdtype, \u001b[38;5;124m\"\u001b[39m\u001b[38;5;124mkind\u001b[39m\u001b[38;5;124m\"\u001b[39m) \u001b[38;5;129;01mand\u001b[39;00m array\u001b[38;5;241m.\u001b[39mdtype\u001b[38;5;241m.\u001b[39mkind \u001b[38;5;129;01min\u001b[39;00m \u001b[38;5;124m\"\u001b[39m\u001b[38;5;124mUSV\u001b[39m\u001b[38;5;124m\"\u001b[39m:\n\u001b[0;32m   1053\u001b[0m     \u001b[38;5;28;01mraise\u001b[39;00m \u001b[38;5;167;01mValueError\u001b[39;00m(\n\u001b[0;32m   1054\u001b[0m         \u001b[38;5;124m\"\u001b[39m\u001b[38;5;124mdtype=\u001b[39m\u001b[38;5;124m'\u001b[39m\u001b[38;5;124mnumeric\u001b[39m\u001b[38;5;124m'\u001b[39m\u001b[38;5;124m is not compatible with arrays of bytes/strings.\u001b[39m\u001b[38;5;124m\"\u001b[39m\n\u001b[0;32m   1055\u001b[0m         \u001b[38;5;124m\"\u001b[39m\u001b[38;5;124mConvert your data to numeric values explicitly instead.\u001b[39m\u001b[38;5;124m\"\u001b[39m\n\u001b[0;32m   1056\u001b[0m     )\n",
            "\u001b[1;31mValueError\u001b[0m: Expected 2D array, got 1D array instead:\narray=['hello is this me you looking for'\n 'Theresa May is on the verge of publicly blaming Russia for the attempted murder of Sergei and Yulia Skripal and ordering expulsions and sanctions against President Putin’s regime. An announcement could come as early as today after a meeting of the government’s National Security Council'].\nReshape your data either using array.reshape(-1, 1) if your data has a single feature or array.reshape(1, -1) if it contains a single sample."
          ]
        }
      ],
      "source": [
        "test_data = [\n",
        "    \"hello is this me you looking for\",\n",
        "    \"Theresa May is on the verge of publicly blaming Russia for the attempted murder of Sergei and Yulia Skripal and ordering expulsions and sanctions against President Putin’s regime. An announcement could come as early as today after a meeting of the government’s National Security Council\"\n",
        "]\n",
        "clf.predict(test_data)"
      ]
    },
    {
      "cell_type": "markdown",
      "metadata": {
        "id": "lZ6tvaYpk8CQ"
      },
      "source": [
        "**ERROR ?** What's happened?\n",
        "Can you guest?"
      ]
    },
    {
      "cell_type": "markdown",
      "metadata": {
        "id": "G5CVNGbQlUcu"
      },
      "source": [
        "## Predict"
      ]
    },
    {
      "cell_type": "markdown",
      "metadata": {
        "id": "Cgb6o8HKlcW2"
      },
      "source": [
        "### Convert test data to TF-IDF vectors"
      ]
    },
    {
      "cell_type": "code",
      "execution_count": 68,
      "metadata": {
        "colab": {
          "base_uri": "https://localhost:8080/"
        },
        "id": "AXviCe4kkxdA",
        "outputId": "b2e20af9-9fba-4515-900f-bdbcfb02e926"
      },
      "outputs": [
        {
          "data": {
            "text/plain": [
              "(2, 257856)"
            ]
          },
          "execution_count": 68,
          "metadata": {},
          "output_type": "execute_result"
        }
      ],
      "source": [
        "X_test_count = count_vect.transform(test_data)\n",
        "X_test_tfidf = tf_transformer.transform(X_test_count)\n",
        "X_test_tfidf.shape"
      ]
    },
    {
      "cell_type": "markdown",
      "metadata": {
        "id": "8CVrszpwlzYk"
      },
      "source": [
        "### Predict value"
      ]
    },
    {
      "cell_type": "code",
      "execution_count": 70,
      "metadata": {
        "colab": {
          "base_uri": "https://localhost:8080/"
        },
        "id": "ZJ_DwnQ7ltjw",
        "outputId": "ca071f08-64ad-4331-a29d-44bfecaacc3e"
      },
      "outputs": [
        {
          "data": {
            "text/plain": [
              "[(np.int64(12), 'Kinh doanh/Mua sam'), (np.int64(41), 'Kinh doanh/Mua sam')]"
            ]
          },
          "execution_count": 70,
          "metadata": {},
          "output_type": "execute_result"
        }
      ],
      "source": [
        "test_label = clf.predict(X_test_tfidf)\n",
        "[(x, sample_data_train.type[x]) for x in test_label]"
      ]
    },
    {
      "cell_type": "markdown",
      "metadata": {
        "id": "bMtAviBFmmKa"
      },
      "source": [
        "## Exercises"
      ]
    },
    {
      "cell_type": "markdown",
      "metadata": {
        "id": "i_OjSkS6mupt"
      },
      "source": [
        "Give the data file with records come from TuoiTre newspaper. Your task is to build a classifier which can predict the document topics.\n",
        "\n",
        "Note:\n",
        "* File [tuoitre.csv](https://drive.google.com/file/d/0ByBWHzMQ2OtGd3VackZ3T1V4eVk/view?usp=sharing) is the full data."
      ]
    },
    {
      "cell_type": "markdown",
      "metadata": {
        "id": "RWW4ehWx2rAf"
      },
      "source": [
        "## Extra"
      ]
    },
    {
      "cell_type": "markdown",
      "metadata": {
        "id": "w6pEVZ0C2uzw"
      },
      "source": [
        "### Text classification lib for tokenizer"
      ]
    },
    {
      "cell_type": "markdown",
      "metadata": {
        "id": "BTXeic3Z3Yap"
      },
      "source": [
        "\n",
        "* Install lib and dependencies\n",
        "\n",
        "    * nltk\n",
        "    \n",
        "```bash\n",
        "pip3 install nltk\n",
        "```\n",
        "\n",
        "Run within python\n",
        "```python\n",
        "import nltk\n",
        "nltk.download('punkt')\n",
        "```"
      ]
    },
    {
      "cell_type": "code",
      "execution_count": null,
      "metadata": {
        "colab": {
          "base_uri": "https://localhost:8080/",
          "height": 68
        },
        "id": "dWkf_Sux3u4t",
        "outputId": "32c92f29-00de-4f90-d64e-90505370f64b"
      },
      "outputs": [
        {
          "name": "stdout",
          "output_type": "stream",
          "text": [
            "[nltk_data] Downloading package punkt to /content/nltk_data...\n",
            "[nltk_data]   Unzipping tokenizers/punkt.zip.\n"
          ]
        },
        {
          "data": {
            "text/plain": [
              "True"
            ]
          },
          "execution_count": 49,
          "metadata": {
            "tags": []
          },
          "output_type": "execute_result"
        }
      ],
      "source": [
        "import nltk\n",
        "nltk.download('punkt')"
      ]
    },
    {
      "cell_type": "code",
      "execution_count": null,
      "metadata": {
        "colab": {
          "base_uri": "https://localhost:8080/",
          "height": 867
        },
        "id": "JaYk15ET3zxC",
        "outputId": "b92f0266-a640-46fc-96af-48a139092027"
      },
      "outputs": [
        {
          "data": {
            "text/plain": [
              "['Theresa',\n",
              " 'May',\n",
              " 'is',\n",
              " 'on',\n",
              " 'the',\n",
              " 'verge',\n",
              " 'of',\n",
              " 'publicly',\n",
              " 'blaming',\n",
              " 'Russia',\n",
              " 'for',\n",
              " 'the',\n",
              " 'attempted',\n",
              " 'murder',\n",
              " 'of',\n",
              " 'Sergei',\n",
              " 'and',\n",
              " 'Yulia',\n",
              " 'Skripal',\n",
              " 'and',\n",
              " 'ordering',\n",
              " 'expulsions',\n",
              " 'and',\n",
              " 'sanctions',\n",
              " 'against',\n",
              " 'President',\n",
              " 'Putin',\n",
              " '’',\n",
              " 's',\n",
              " 'regime',\n",
              " '.',\n",
              " 'An',\n",
              " 'announcement',\n",
              " 'could',\n",
              " 'come',\n",
              " 'as',\n",
              " 'early',\n",
              " 'as',\n",
              " 'today',\n",
              " 'after',\n",
              " 'a',\n",
              " 'meeting',\n",
              " 'of',\n",
              " 'the',\n",
              " 'government',\n",
              " '’',\n",
              " 's',\n",
              " 'National',\n",
              " 'Security',\n",
              " 'Council']"
            ]
          },
          "execution_count": 50,
          "metadata": {
            "tags": []
          },
          "output_type": "execute_result"
        }
      ],
      "source": [
        "import nltk\n",
        "sentence = u\"Theresa May is on the verge of publicly blaming Russia for the attempted murder of Sergei and Yulia Skripal and ordering expulsions and sanctions against President Putin’s regime. An announcement could come as early as today after a meeting of the government’s National Security Council\"\n",
        "nltk.word_tokenize(sentence)"
      ]
    },
    {
      "cell_type": "markdown",
      "metadata": {
        "id": "5L4PxFRb3FQP"
      },
      "source": [
        "### Vietnamese classification lib"
      ]
    },
    {
      "cell_type": "markdown",
      "metadata": {
        "id": "HlTycYAc3QC0"
      },
      "source": [
        "\n",
        "* Another classifier is `underthesea` lib\n",
        "\n",
        "```\n",
        "pip3 install underthesea\n",
        "pip3 install Cython\n",
        "pip3 install future scipy numpy scikit-learn\n",
        "pip3 install -U fasttext --no-cache-dir --no-deps --force-reinstall\n",
        "```\n",
        "\n",
        "Get the model via\n",
        "\n",
        "```\n",
        "underthesea data\n",
        "```"
      ]
    },
    {
      "cell_type": "markdown",
      "metadata": {
        "id": "64HKnv8H3LHu"
      },
      "source": [
        "*Note*: If you install on macOs, and face the error `option clang: error: unsupported option '-fopenmp'`\n",
        "Then you can try to point the GCC compiler to the brew's one.\n",
        "\n",
        "```\n",
        "brew install gcc g++\n",
        "export CXX=/usr/local/bin/g++-7\n",
        "export CC=/usr/local/bin/gcc-7\n",
        "pip3 install underthesea -U\n",
        "```"
      ]
    },
    {
      "cell_type": "code",
      "execution_count": null,
      "metadata": {
        "colab": {
          "base_uri": "https://localhost:8080/",
          "height": 513
        },
        "id": "XJbz4Dqz3c4b",
        "outputId": "6026add1-d888-46a3-a70b-49aa76c9bb79"
      },
      "outputs": [
        {
          "name": "stdout",
          "output_type": "stream",
          "text": [
            "Requirement already satisfied: underthesea in /usr/local/lib/python3.6/dist-packages (1.1.7)\r\n",
            "Requirement already satisfied: Click>=6.0 in /usr/local/lib/python3.6/dist-packages (from underthesea) (6.7)\r\n",
            "Requirement already satisfied: python-crfsuite==0.9.5 in /usr/local/lib/python3.6/dist-packages (from underthesea) (0.9.5)\r\n",
            "Requirement already satisfied: languageflow==1.1.7a3 in /usr/local/lib/python3.6/dist-packages (from underthesea) (1.1.7a3)\n",
            "Requirement already satisfied: Cython in /usr/local/lib/python3.6/dist-packages (0.28.2)\n",
            "Collecting fasttext\n",
            "\u001b[?25l  Downloading https://files.pythonhosted.org/packages/a4/86/ff826211bc9e28d4c371668b30b4b2c38a09127e5e73017b1c0cd52f9dfa/fasttext-0.8.3.tar.gz (73kB)\n",
            "\u001b[K    100% |████████████████████████████████| 81kB 5.1MB/s \n",
            "\u001b[?25hInstalling collected packages: fasttext\n",
            "  Found existing installation: fasttext 0.8.3\n",
            "    Uninstalling fasttext-0.8.3:\n",
            "      Successfully uninstalled fasttext-0.8.3\n",
            "  Running setup.py install for fasttext ... \u001b[?25l-\b \b\\\b \b|\b \b/\b \b-\b \b\\\b \b|\b \b/\b \b-\b \b\\\b \b|\b \b/\b \b-\b \b\\\b \b|\b \bdone\n",
            "\u001b[?25hSuccessfully installed fasttext-0.8.3\n",
            "Requirement already satisfied: joblib in /usr/local/lib/python3.6/dist-packages (0.11)\n",
            "/usr/local/lib/python3.6/dist-packages/sklearn/base.py:311: UserWarning: Trying to unpickle estimator MultiLabelBinarizer from version 0.19.0 when using version 0.19.1. This might lead to breaking code or invalid results. Use at your own risk.\n",
            "  UserWarning)\n",
            "/usr/local/lib/python3.6/dist-packages/sklearn/base.py:311: UserWarning: Trying to unpickle estimator TfidfTransformer from version 0.19.0 when using version 0.19.1. This might lead to breaking code or invalid results. Use at your own risk.\n",
            "  UserWarning)\n",
            "/usr/local/lib/python3.6/dist-packages/sklearn/base.py:311: UserWarning: Trying to unpickle estimator SGDClassifier from version 0.19.0 when using version 0.19.1. This might lead to breaking code or invalid results. Use at your own risk.\n",
            "  UserWarning)\n",
            "/usr/local/lib/python3.6/dist-packages/sklearn/base.py:311: UserWarning: Trying to unpickle estimator LabelBinarizer from version 0.19.0 when using version 0.19.1. This might lead to breaking code or invalid results. Use at your own risk.\n",
            "  UserWarning)\n",
            "/usr/local/lib/python3.6/dist-packages/sklearn/base.py:311: UserWarning: Trying to unpickle estimator OneVsRestClassifier from version 0.19.0 when using version 0.19.1. This might lead to breaking code or invalid results. Use at your own risk.\n",
            "  UserWarning)\n",
            "/usr/local/lib/python3.6/dist-packages/sklearn/base.py:311: UserWarning: Trying to unpickle estimator SVC from version 0.19.0 when using version 0.19.1. This might lead to breaking code or invalid results. Use at your own risk.\n",
            "  UserWarning)\n",
            "Component 'classification.fasttext.model' is already existed.\n"
          ]
        }
      ],
      "source": [
        "\"\"\"\n",
        "Run this session to configure for Google Colab\n",
        "\"\"\"\n",
        "\n",
        "!pip install underthesea\n",
        "!pip install Cython\n",
        "!pip install -U fasttext --no-cache-dir --no-deps --force-reinstall\n",
        "!pip install joblib\n",
        "\n",
        "!underthesea data"
      ]
    },
    {
      "cell_type": "code",
      "execution_count": null,
      "metadata": {
        "colab": {
          "base_uri": "https://localhost:8080/",
          "height": 34
        },
        "id": "dEr2r7Vo3BfC",
        "outputId": "bc9a15d0-51ac-4f30-ffa3-68bfc47438c5"
      },
      "outputs": [
        {
          "data": {
            "text/plain": [
              "['Doi song']"
            ]
          },
          "execution_count": 59,
          "metadata": {
            "tags": []
          },
          "output_type": "execute_result"
        }
      ],
      "source": [
        "from underthesea.classification import classify\n",
        "sentence = u\"Chúng ta thường nói đến Rau sạch, Rau an toàn để phân biệt với các rau bình thường bán ngoài chợ.\"\n",
        "classify(sentence)"
      ]
    },
    {
      "cell_type": "code",
      "execution_count": null,
      "metadata": {
        "id": "x86bJpDn3lGb"
      },
      "outputs": [],
      "source": []
    }
  ],
  "metadata": {
    "colab": {
      "provenance": []
    },
    "kernelspec": {
      "display_name": "Python 3",
      "language": "python",
      "name": "python3"
    },
    "language_info": {
      "codemirror_mode": {
        "name": "ipython",
        "version": 3
      },
      "file_extension": ".py",
      "mimetype": "text/x-python",
      "name": "python",
      "nbconvert_exporter": "python",
      "pygments_lexer": "ipython3",
      "version": "3.12.6"
    }
  },
  "nbformat": 4,
  "nbformat_minor": 0
}
